{
 "cells": [
  {
   "cell_type": "code",
   "execution_count": 1,
   "id": "4a99258f",
   "metadata": {},
   "outputs": [
    {
     "name": "stdout",
     "output_type": "stream",
     "text": [
      "Requirement already satisfied: oracledb in c:\\users\\gusta\\appdata\\local\\programs\\python\\python312\\lib\\site-packages (3.1.0)\n",
      "Requirement already satisfied: cryptography>=3.2.1 in c:\\users\\gusta\\appdata\\local\\programs\\python\\python312\\lib\\site-packages (from oracledb) (44.0.2)\n",
      "Requirement already satisfied: cffi>=1.12 in c:\\users\\gusta\\appdata\\local\\programs\\python\\python312\\lib\\site-packages (from cryptography>=3.2.1->oracledb) (1.16.0)\n",
      "Requirement already satisfied: pycparser in c:\\users\\gusta\\appdata\\local\\programs\\python\\python312\\lib\\site-packages (from cffi>=1.12->cryptography>=3.2.1->oracledb) (2.21)\n",
      "Note: you may need to restart the kernel to use updated packages.\n"
     ]
    },
    {
     "name": "stderr",
     "output_type": "stream",
     "text": [
      "\n",
      "[notice] A new release of pip is available: 24.2 -> 25.1\n",
      "[notice] To update, run: python.exe -m pip install --upgrade pip\n"
     ]
    }
   ],
   "source": [
    "pip install oracledb"
   ]
  },
  {
   "cell_type": "code",
   "execution_count": null,
   "id": "83cafc62",
   "metadata": {},
   "outputs": [],
   "source": [
    "import os\n",
    "import oracledb\n",
    "from sqlalchemy import create_engine\n",
    "from sqlalchemy.orm import sessionmaker\n",
    "\n",
    "DB_HOST='oradbpreprod01.hacienda-gcba.gov.ar'\n",
    "DB_PORT=1521\n",
    "DB_SERVICE='preprod'\n",
    "DB_USER='GSOLOMITA'\n",
    "DB_PASS='Gsolomita.123$'\n",
    "\n",
    "\n",
    "# Directorio donde está oci.dll\n",
    "oracledb.init_oracle_client(lib_dir=r\"C:\\oracle\\instantclient_23_7\")\n",
    "\n",
    "# Construye el DSN con makedsn\n",
    "dsn = oracledb.makedsn( host=DB_HOST,  port=DB_PORT, service_name=DB_SERVICE  )\n",
    "\n",
    "# Crea el engine usando oracle+oracledb (modo thick)\n",
    "engine = create_engine(   f\"oracle+oracledb://{DB_USER}:{DB_PASS}@{dsn}\", echo=False)\n",
    "SessionLocal = sessionmaker(bind=engine)"
   ]
  },
  {
   "cell_type": "code",
   "execution_count": null,
   "id": "9dc04c23",
   "metadata": {},
   "outputs": [],
   "source": [
    "sql=\"\"\"\n",
    "SELECT \n",
    "    bac.id_oc_bac,\n",
    "    oc.o_ente,\n",
    "    oc.aa_ocompra,\n",
    "    oc.t_ocompra,\n",
    "    oc.n_ocompra\n",
    "FROM slu.torden_compra OC\n",
    "JOIN slu.torden_compra_bac BAC \n",
    "  ON oc.id_oc_bac = bac.id_ocompra\n",
    "WHERE (oc.aa_ocompra, oc.t_ocompra, oc.n_ocompra) IN (\n",
    "    SELECT DISTINCT aa_ocompra, t_ocompra, n_ocompra\n",
    "    FROM slu.dorden_compra_ren\n",
    "    WHERE c_clase IN (990010, 560000, 790000)\n",
    "      AND t_ocompra = 'OCA'\n",
    ") ;\n",
    "\"\"\""
   ]
  }
 ],
 "metadata": {
  "kernelspec": {
   "display_name": "Python 3",
   "language": "python",
   "name": "python3"
  },
  "language_info": {
   "codemirror_mode": {
    "name": "ipython",
    "version": 3
   },
   "file_extension": ".py",
   "mimetype": "text/x-python",
   "name": "python",
   "nbconvert_exporter": "python",
   "pygments_lexer": "ipython3",
   "version": "3.12.0"
  }
 },
 "nbformat": 4,
 "nbformat_minor": 5
}
